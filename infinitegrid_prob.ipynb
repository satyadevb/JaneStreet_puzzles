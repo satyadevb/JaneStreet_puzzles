{
 "cells": [
  {
   "cell_type": "code",
   "execution_count": 1,
   "id": "102ec0cf",
   "metadata": {},
   "outputs": [],
   "source": [
    "import statistics as stats\n",
    "import numpy as np\n",
    "import random"
   ]
  },
  {
   "cell_type": "code",
   "execution_count": 2,
   "id": "fb5f9d40",
   "metadata": {},
   "outputs": [],
   "source": [
    "def sim(i,n,x,y,s):\n",
    "    if(i == n):\n",
    "        if((x == 0) and (y == 0)):\n",
    "            s.append(1)\n",
    "        return \n",
    "    else:\n",
    "        if((x == 0) and (y == 0)) and (i != 0):\n",
    "            return \n",
    "        else:\n",
    "            if (x + y)%2 == 0:\n",
    "                sim(i+1,n,x + 1,y,s)\n",
    "                sim(i+1,n,x - 1,y,s)\n",
    "                sim(i+1,n,x,y + 1,s)\n",
    "            else:\n",
    "                sim(i+1,n,x + 1,y,s)\n",
    "                sim(i+1,n,x - 1,y,s)\n",
    "                sim(i+1,n,x,y - 1,s)"
   ]
  },
  {
   "cell_type": "code",
   "execution_count": null,
   "id": "37399f8f",
   "metadata": {},
   "outputs": [],
   "source": [
    "i = 2\n",
    "prob = 0\n",
    "while(i <= 20):\n",
    "    s = []\n",
    "    sim(0,i,0,0,s)\n",
    "    prob = prob + len(s)/(pow(3,i))\n",
    "    i = i + 2"
   ]
  },
  {
   "cell_type": "code",
   "execution_count": 5,
   "id": "96b8e1bd",
   "metadata": {},
   "outputs": [
    {
     "data": {
      "text/plain": [
       "0.5519674438281968"
      ]
     },
     "execution_count": 5,
     "metadata": {},
     "output_type": "execute_result"
    }
   ],
   "source": [
    "prob"
   ]
  },
  {
   "cell_type": "code",
   "execution_count": 6,
   "id": "1ba5cb47",
   "metadata": {},
   "outputs": [
    {
     "name": "stdout",
     "output_type": "stream",
     "text": [
      "Answer = 0.44803255617180315\n"
     ]
    },
    {
     "data": {
      "text/plain": [
       "0.44803255617180315"
      ]
     },
     "execution_count": 6,
     "metadata": {},
     "output_type": "execute_result"
    }
   ],
   "source": [
    "#Answer\n",
    "print(\"Answer =\",1 - prob)\n",
    "1 - prob"
   ]
  },
  {
   "cell_type": "code",
   "execution_count": 7,
   "id": "b2fd0f88",
   "metadata": {},
   "outputs": [],
   "source": [
    "def simul(n):\n",
    "    i = 0;x = 0;y = 0\n",
    "    while(i <= n):\n",
    "        if((x == 0) and (y == 0))and(i > 0):\n",
    "            return 1\n",
    "        else:\n",
    "            i = i + 1\n",
    "            num = random.randint(1,3)\n",
    "            if (x + y)%2 == 0:\n",
    "                if num == 1:\n",
    "                    x = x + 1\n",
    "                elif num == 2:\n",
    "                    x = x - 1\n",
    "                else:\n",
    "                    y = y + 1\n",
    "            else:\n",
    "                if num == 1:\n",
    "                    x = x + 1\n",
    "                elif num == 2:\n",
    "                    x = x - 1\n",
    "                else:\n",
    "                    y = y - 1\n",
    "    return 0"
   ]
  },
  {
   "cell_type": "code",
   "execution_count": 9,
   "id": "745a1264",
   "metadata": {},
   "outputs": [],
   "source": [
    "l = []"
   ]
  },
  {
   "cell_type": "code",
   "execution_count": 10,
   "id": "15a6834e",
   "metadata": {},
   "outputs": [
    {
     "name": "stdout",
     "output_type": "stream",
     "text": [
      "0.552321\n"
     ]
    }
   ],
   "source": [
    "n = 1000000;s = 0\n",
    "moves = 20\n",
    "\n",
    "for i in range(n):\n",
    "    if simul(moves) == 1:\n",
    "        s = s + 1\n",
    "    \n",
    "l.append(s/n)\n",
    "print(s/n)"
   ]
  },
  {
   "cell_type": "code",
   "execution_count": 11,
   "id": "41d4f7bc",
   "metadata": {},
   "outputs": [
    {
     "data": {
      "text/plain": [
       "0.552321"
      ]
     },
     "execution_count": 11,
     "metadata": {},
     "output_type": "execute_result"
    }
   ],
   "source": [
    "stats.mean(l)"
   ]
  },
  {
   "cell_type": "code",
   "execution_count": 12,
   "id": "bf2db753",
   "metadata": {},
   "outputs": [],
   "source": [
    "i = 2\n",
    "prob = 0;l = []\n",
    "while(i <= 12):\n",
    "    s = []\n",
    "    sim(0,i,0,0,s)\n",
    "    l.append(len(s))\n",
    "    i = i + 2"
   ]
  },
  {
   "cell_type": "code",
   "execution_count": 13,
   "id": "a54efb45",
   "metadata": {},
   "outputs": [
    {
     "data": {
      "text/plain": [
       "[3, 6, 30, 180, 1188, 8322]"
      ]
     },
     "execution_count": 13,
     "metadata": {},
     "output_type": "execute_result"
    }
   ],
   "source": [
    "l"
   ]
  },
  {
   "cell_type": "code",
   "execution_count": null,
   "id": "a4e955d6",
   "metadata": {},
   "outputs": [],
   "source": []
  }
 ],
 "metadata": {
  "kernelspec": {
   "display_name": "Python 3 (ipykernel)",
   "language": "python",
   "name": "python3"
  },
  "language_info": {
   "codemirror_mode": {
    "name": "ipython",
    "version": 3
   },
   "file_extension": ".py",
   "mimetype": "text/x-python",
   "name": "python",
   "nbconvert_exporter": "python",
   "pygments_lexer": "ipython3",
   "version": "3.9.12"
  }
 },
 "nbformat": 4,
 "nbformat_minor": 5
}
